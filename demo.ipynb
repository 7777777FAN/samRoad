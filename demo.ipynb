{
 "cells": [
  {
   "cell_type": "code",
   "execution_count": 8,
   "metadata": {},
   "outputs": [],
   "source": [
    "# 可视化GTE\n",
    "import cv2 as cv\n",
    "from skimage import measure\n",
    "from scipy.ndimage import rotate\n",
    "import numpy as np\n",
    "import os.path as osp\n",
    "import os\n",
    "import torch\n",
    "import shutil\n",
    "\n",
    "\n",
    "\n",
    "IMG_SIZE = 2048\n",
    "OFFSET = 1\n",
    "MAX_DEGREE = 6\n",
    "VECTOR_NORM = 25.0\n",
    "\n",
    "NUM_PROCESS = 10\n",
    "NUM_THREAD = 10\n",
    " \n",
    "# 将图编码为19维张量\n",
    "rgb_pattern   = './cityscale/20cities/region_{}_sat.png'\n",
    "GTE_logits_pattern = './save/成功的GTE/GTE_logits/region_{}_GTE_logits.npz'\n",
    "\n",
    "\n",
    "\n",
    "def vis_GT_GTE(GTE, keypoint_thr=0.1, edge_thr=0., aug=False, rot_angle=90, rot_index=0):\n",
    "    vis_output = np.zeros((IMG_SIZE, IMG_SIZE, 3))    # 不加底图\n",
    "    # vis_output = cv.imread(rgb_pattern.format(7))[:, :, :]\n",
    "    sub_GTE = torch.tensor(GTE[:, :, :], dtype=torch.float32)\n",
    "    \n",
    "    if aug:\n",
    "        sub_GTE = GTE[:, :, :]\n",
    "        rot_mat = np.array([    # 只针对90度的旋转，如果是任意角度还需要改旋转矩阵\n",
    "                        [0, 1],\n",
    "                        [-1, 0]\n",
    "            ], dtype=np.float32)\n",
    "\n",
    "        sub_GTE = rotate(sub_GTE, rot_angle*rot_index, axes=(0, 1), reshape=False)\n",
    "        vis_output = rotate(vis_output, rot_angle*rot_index, axes=(0, 1), reshape=False)\n",
    "        \n",
    "        # 只对所有不为0的进行变换，其余的全是0，没必要再计算了\n",
    "        for r, c in np.column_stack(np.where(sub_GTE[:,:, 0]>0.98)):\n",
    "            delta_coords = []\n",
    "            for j in range(MAX_DEGREE):\n",
    "                delta_coords.append([sub_GTE[r, c, 1+3*j+1], sub_GTE[r, c, 1+3*j+2]])   # dx, dy\n",
    "            delta_coords_to_rot = np.column_stack(delta_coords)\n",
    "            roted_coords = np.linalg.matrix_power(rot_mat, rot_index)@delta_coords_to_rot\n",
    "            \n",
    "            for j in range(MAX_DEGREE):    # stick back\n",
    "                sub_GTE[r, c, 1+3*j+1], sub_GTE[r, c, 1+3*j+2] = roted_coords[:, j]\n",
    "                \n",
    "    keypoint_map = sub_GTE[:,:, 0].detach().cpu().numpy()\n",
    "\n",
    "    # 从团中寻找中心点\n",
    "    keypoint_map = (keypoint_map > keypoint_thr).astype(np.uint8)\n",
    "    # cv.imwrite(osp.join(verify_dir, f'region_8_vis_{rot_angle*rot_index}.png'), vis_output)\n",
    "    # cv.imwrite(osp.join(verify_dir, f'region_8_vis_{rot_angle*rot_index}.png'), keypoint_map*255)\n",
    "    labels = measure.label(keypoint_map, connectivity=2)\n",
    "    props = measure.regionprops(labels)\n",
    "    min_area = 0\n",
    "    for region in props:\n",
    "        if region.area > min_area:\n",
    "            center = region.centroid[::-1]   # rc-> xy\n",
    "            center_x, center_y = int(center[0]), int(center[1])\n",
    "            cv.circle(vis_output, (center_x, center_y), radius=2, color=(0, 0, 255), thickness=-1)\n",
    "            \n",
    "            r, c = center_y, center_x\n",
    "            for j in range(MAX_DEGREE):\n",
    "                edgeness = torch.sigmoid(sub_GTE[r, c, 1+3*j])\n",
    "                if edgeness > edge_thr:\n",
    "                    dx, dy = sub_GTE[r, c, 1+3*j+1], sub_GTE[r, c, 1+3*j+2]\n",
    "                    # dx, dy = rot_mat@np.array([dx, dy])\n",
    "                    dst_x, dst_y = int(center_x + VECTOR_NORM*dx), int(center_y + VECTOR_NORM*dy)\n",
    "                    cv.line(vis_output, (center_x, center_y), (dst_x, dst_y), color=(0, 255, 0), thickness=1)\n",
    "    cv.imwrite(osp.join(verify_dir, f'region_8_vis_{rot_angle*rot_index}.png'), vis_output)\n",
    "    \n",
    "\n",
    "\n",
    "GTE = np.load(open(GTE_logits_pattern.format(8), 'rb'))['GTE_logits']\n",
    "verify_dir = './save/成功的GTE/verify'\n",
    "if osp.exists(verify_dir):\n",
    "    shutil.rmtree(verify_dir)\n",
    "os.makedirs(verify_dir)\n",
    "vis_GT_GTE(GTE, aug=False)"
   ]
  },
  {
   "cell_type": "code",
   "execution_count": 12,
   "metadata": {},
   "outputs": [
    {
     "ename": "IndexError",
     "evalue": "index 22 is out of bounds for axis 2 with size 19",
     "output_type": "error",
     "traceback": [
      "\u001b[0;31m---------------------------------------------------------------------------\u001b[0m",
      "\u001b[0;31mIndexError\u001b[0m                                Traceback (most recent call last)",
      "Cell \u001b[0;32mIn[12], line 5\u001b[0m\n\u001b[1;32m      2\u001b[0m \u001b[38;5;28;01mfrom\u001b[39;00m \u001b[38;5;21;01mdecoder\u001b[39;00m \u001b[38;5;28;01mimport\u001b[39;00m DecodeAndVis\n\u001b[1;32m      4\u001b[0m output_file \u001b[38;5;241m=\u001b[39m \u001b[38;5;124m'\u001b[39m\u001b[38;5;124m./save/成功的GTE/decode_result\u001b[39m\u001b[38;5;124m'\u001b[39m\n\u001b[0;32m----> 5\u001b[0m \u001b[43mDecodeAndVis\u001b[49m\u001b[43m(\u001b[49m\u001b[43mGTE\u001b[49m\u001b[43m,\u001b[49m\u001b[43m \u001b[49m\u001b[43moutput_file\u001b[49m\u001b[43m,\u001b[49m\u001b[43m \u001b[49m\u001b[43mthr\u001b[49m\u001b[38;5;241;43m=\u001b[39;49m\u001b[38;5;241;43m0.05\u001b[39;49m\u001b[43m,\u001b[49m\u001b[43m \u001b[49m\u001b[43medge_thr\u001b[49m\u001b[38;5;241;43m=\u001b[39;49m\u001b[38;5;241;43m0.1\u001b[39;49m\u001b[43m,\u001b[49m\u001b[43m \u001b[49m\u001b[43mangledistance_weight\u001b[49m\u001b[38;5;241;43m=\u001b[39;49m\u001b[38;5;241;43m50\u001b[39;49m\u001b[43m,\u001b[49m\u001b[43m \u001b[49m\u001b[43msnap\u001b[49m\u001b[38;5;241;43m=\u001b[39;49m\u001b[38;5;28;43;01mTrue\u001b[39;49;00m\u001b[43m,\u001b[49m\u001b[43m \u001b[49m\u001b[43mimagesize\u001b[49m\u001b[38;5;241;43m=\u001b[39;49m\u001b[38;5;241;43m2048\u001b[39;49m\u001b[43m)\u001b[49m\n",
      "File \u001b[0;32m~/research/samRoad/samRoad/decoder.py:540\u001b[0m, in \u001b[0;36mDecodeAndVis\u001b[0;34m(imagegraph, filename, imagesize, max_degree, thr, edge_thr, snap, kp_limit, drop, use_graph_refine, testing, spacenet, angledistance_weight, snap_dist)\u001b[0m\n\u001b[1;32m    536\u001b[0m x,y \u001b[38;5;241m=\u001b[39m keypoints[\u001b[38;5;241m0\u001b[39m][i], keypoints[\u001b[38;5;241m1\u001b[39m][i]\n\u001b[1;32m    538\u001b[0m \u001b[38;5;28;01mfor\u001b[39;00m j \u001b[38;5;129;01min\u001b[39;00m \u001b[38;5;28mrange\u001b[39m(max_degree):\n\u001b[0;32m--> 540\u001b[0m \t\u001b[38;5;28;01mif\u001b[39;00m \u001b[43mimagegraph\u001b[49m\u001b[43m[\u001b[49m\u001b[43mx\u001b[49m\u001b[43m,\u001b[49m\u001b[43my\u001b[49m\u001b[43m,\u001b[49m\u001b[38;5;241;43m2\u001b[39;49m\u001b[38;5;241;43m+\u001b[39;49m\u001b[38;5;241;43m4\u001b[39;49m\u001b[38;5;241;43m*\u001b[39;49m\u001b[43mj\u001b[49m\u001b[43m]\u001b[49m \u001b[38;5;241m*\u001b[39m imagegraph[x,y,\u001b[38;5;241m0\u001b[39m] \u001b[38;5;241m>\u001b[39m thr \u001b[38;5;241m*\u001b[39m thr: \u001b[38;5;66;03m# or thr < 0.2:\u001b[39;00m\n\u001b[1;32m    542\u001b[0m \t\tx1 \u001b[38;5;241m=\u001b[39m \u001b[38;5;28mint\u001b[39m(x \u001b[38;5;241m+\u001b[39m vector_norm \u001b[38;5;241m*\u001b[39m imagegraph[x,y,\u001b[38;5;241m2\u001b[39m\u001b[38;5;241m+\u001b[39m\u001b[38;5;241m4\u001b[39m\u001b[38;5;241m*\u001b[39mj\u001b[38;5;241m+\u001b[39m\u001b[38;5;241m2\u001b[39m])\n\u001b[1;32m    543\u001b[0m \t\ty1 \u001b[38;5;241m=\u001b[39m \u001b[38;5;28mint\u001b[39m(y \u001b[38;5;241m+\u001b[39m vector_norm \u001b[38;5;241m*\u001b[39m imagegraph[x,y,\u001b[38;5;241m2\u001b[39m\u001b[38;5;241m+\u001b[39m\u001b[38;5;241m4\u001b[39m\u001b[38;5;241m*\u001b[39mj\u001b[38;5;241m+\u001b[39m\u001b[38;5;241m3\u001b[39m])\n",
      "\u001b[0;31mIndexError\u001b[0m: index 22 is out of bounds for axis 2 with size 19"
     ]
    }
   ],
   "source": [
    "# 用Sat2Graph的解码算法解码一下\n",
    "from decoder import DecodeAndVis\n",
    "\n",
    "output_file = './save/成功的GTE/decode_result'\n",
    "DecodeAndVis(GTE, output_file, thr=0.05, edge_thr=0.1, angledistance_weight=50, snap=True, imagesize=2048)"
   ]
  },
  {
   "cell_type": "code",
   "execution_count": 1,
   "metadata": {},
   "outputs": [
    {
     "name": "stdout",
     "output_type": "stream",
     "text": [
      "(array([0, 0, 1, 2]), array([0, 1, 1, 0]))\n",
      "[1 2 4 1]\n",
      "[[ True  True False]\n",
      " [False  True False]\n",
      " [ True False False]]\n",
      "[1 2 4 1]\n",
      "(array([0, 0, 1, 2]), array([0, 1, 1, 0]))\n",
      "[1 2 4 1]\n",
      "(array([0, 0, 1, 2]), array([0, 1, 1, 0]))\n",
      "[1 2 4 1]\n",
      "[[ True  True False]\n",
      " [False  True False]\n",
      " [ True False False]]\n",
      "[1 2 4 1]\n",
      "(array([0, 0, 1, 2]), array([0, 1, 1, 0]))\n",
      "[1 2 4 1]\n",
      "(array([0, 0, 1, 2]), array([0, 1, 1, 0]))\n",
      "[1 2 4 1]\n"
     ]
    }
   ],
   "source": [
    "# 找到array的非零元素\n",
    "import numpy as np\n",
    "\n",
    "a = np.array([[1, 2, 0],\n",
    "              [0, 4, 0],\n",
    "              [1, 0, 0]])\n",
    "idxs = np.where(a!=0)   # idxs = ([0, 0, 1, 2],[0, 1, 1, 0]) 手动也行^_^\n",
    "\n",
    "# 行列数组索引\n",
    "print(idxs)\n",
    "print(a[idxs])\n",
    "\n",
    "# 对应位置布尔类型索引\n",
    "print(a!=0)\n",
    "print(a[a!=0])\n",
    "\n",
    "# 行列数组索引\n",
    "print(a.nonzero())\n",
    "print(a[a.nonzero()])\n",
    "\n",
    "# 行列数组索引\n",
    "print(np.nonzero(a))\n",
    "print(a[np.nonzero(a)])\n",
    "\n",
    "# 对应位置布尔类型索引\n",
    "print(a!=0)\n",
    "print(a[a!=0])\n",
    "\n",
    "# 行列数组索引\n",
    "print(a.nonzero())\n",
    "print(a[a.nonzero()])\n",
    "\n",
    "# 行列数组索引\n",
    "print(np.nonzero(a))\n",
    "print(a[np.nonzero(a)])"
   ]
  },
  {
   "cell_type": "code",
   "execution_count": 43,
   "metadata": {},
   "outputs": [
    {
     "name": "stdout",
     "output_type": "stream",
     "text": [
      "np.where(a)的初始返回结果： (array([0, 0, 1, 2]), array([0, 1, 1, 0]))\n",
      "[[0, 0], [0, 1], [1, 1], [2, 0]]\n",
      "[[0, 0], [0, 1], [1, 1], [2, 0]]\n",
      "[[0 0]\n",
      " [0 1]\n",
      " [1 1]\n",
      " [2 0]]\n",
      "[[0 0]\n",
      " [1 0]\n",
      " [1 1]\n",
      " [0 2]]\n"
     ]
    }
   ],
   "source": [
    "# 把np.where()返回的行列号分开的结果合并\n",
    "\n",
    "a = np.array([[1, 2, 0],\n",
    "              [0, 4, 0],\n",
    "              [1, 0, 0]])\n",
    "print(\"np.where(a)的初始返回结果：\", np.where(a))\n",
    "\n",
    "# ① 采用xzh的方案\n",
    "def tuple2list(t):\n",
    "    return [[t[0][idx], t[1][idx]] for idx in range(len(t[0]))]\n",
    "rc = tuple2list(np.where(a))\n",
    "print(rc)\n",
    "\n",
    "# ② 使用zip\n",
    "rc = []\n",
    "for r, c in zip(*np.where(a)):  # 等价于for r, c in zip(np.where(a)[0], np.where(a)[1])\n",
    "    rc.append([r, c])\n",
    "print(rc)\n",
    "\n",
    "# ③ 使用np的堆叠函数把两个分开的数组堆叠起来成为一个矩阵方便索引\n",
    "rc = np.column_stack(np.where(a))\n",
    "xy = rc[:, ::-1]\n",
    "print(rc)\n",
    "print(xy)"
   ]
  },
  {
   "cell_type": "code",
   "execution_count": 97,
   "metadata": {},
   "outputs": [
    {
     "name": "stdout",
     "output_type": "stream",
     "text": [
      "[[1 2 0]\n",
      " [0 0 1]\n",
      " [2 1 2]]\n",
      "\n",
      "[[0 0 0]\n",
      " [7 8 0]\n",
      " [7 9 0]]\n",
      "\n",
      "[[0 0 0]\n",
      " [7 8 0]\n",
      " [7 9 0]]\n",
      "\n"
     ]
    }
   ],
   "source": [
    "# 数组元素的排序与挑选\n",
    "a = np.array([[7, 8, 0],\n",
    "              [0, 9, 0],\n",
    "              [7, 0, 0]])\n",
    "print(np.argsort(a, axis=0))    # 数组元素沿指定轴排序，返回值在指定轴上的索引矩阵\n",
    "print()\n",
    "\n",
    "# print(np.sort(a, axis=0))    # 数组元素沿指定轴排序，返回具体值矩阵\n",
    "# print()\n",
    "\n",
    "print(np.take_along_axis(a, np.argsort(a, axis=0), axis=0))  # 根据返回的值的索引沿指定轴挑选元素（重排）\n",
    "print()\n",
    "b = np.zeros_like(a)\n",
    "for j in range(a.shape[1]):\n",
    "    b[:, j] = a[:, j][np.argsort(a, axis=0)[:,j]]\n",
    "print(b)\n",
    "print()\n",
    "\n",
    "\n",
    "# # 只有一个轴式可以不使用take_along_axis函数\n",
    "# a = np.array([7, 8, 0])\n",
    "# print(np.argsort(a, axis=0))    # 数组元素沿指定轴排序，返回值在指定轴上的索引矩阵\n",
    "# print()\n",
    "# print(np.take_along_axis(a,np.argsort(a, axis=0), axis=0))\n",
    "# print()"
   ]
  },
  {
   "cell_type": "code",
   "execution_count": 63,
   "metadata": {},
   "outputs": [
    {
     "data": {
      "text/plain": [
       "[[2, 1], [4, 3]]"
      ]
     },
     "execution_count": 63,
     "metadata": {},
     "output_type": "execute_result"
    }
   ],
   "source": [
    "transform = lambda x: [i[::-1] for i in x]\n",
    "a = [[1, 2], [3, 4]]\n",
    "b = transform(a)\n",
    "b"
   ]
  },
  {
   "cell_type": "code",
   "execution_count": 65,
   "metadata": {},
   "outputs": [
    {
     "data": {
      "text/plain": [
       "array([0.  , 0.25, 0.5 , 0.75, 1.  ])"
      ]
     },
     "execution_count": 65,
     "metadata": {},
     "output_type": "execute_result"
    }
   ],
   "source": [
    "a = np.linspace(0, 1, num=4+1, endpoint=True)\n",
    "a"
   ]
  },
  {
   "cell_type": "code",
   "execution_count": 74,
   "metadata": {},
   "outputs": [
    {
     "name": "stdout",
     "output_type": "stream",
     "text": [
      "[0 1 4]\n",
      "[0 1 2 3 4 5]\n",
      "[0 1 1 1 1 1]\n",
      "[1 2 3 4 5]\n"
     ]
    }
   ],
   "source": [
    "points = np.array([0, 1, 2, 3, 4, 5])\n",
    "print(points[[0, 1, 4]])\n",
    "print(points[[0, 1, 2, 3, 4, 5]])\n",
    "print(points[[0, 1, 1, 1, 1, 1]])\n",
    "print(points[np.bool_([0, 1, 1, 1, 1, 1])])"
   ]
  }
 ],
 "metadata": {
  "kernelspec": {
   "display_name": "Python 3",
   "language": "python",
   "name": "python3"
  },
  "language_info": {
   "codemirror_mode": {
    "name": "ipython",
    "version": 3
   },
   "file_extension": ".py",
   "mimetype": "text/x-python",
   "name": "python",
   "nbconvert_exporter": "python",
   "pygments_lexer": "ipython3",
   "version": "3.9.19"
  }
 },
 "nbformat": 4,
 "nbformat_minor": 2
}
