{
 "cells": [
  {
   "cell_type": "code",
   "execution_count": 2,
   "metadata": {},
   "outputs": [
    {
     "data": {
      "text/plain": [
       "array([[  0.,   0.,   0.,   0.,   0.,   0.,   0.,   0.,   0.,   0.,   0.],\n",
       "       [  0.,   0.,   0.,   0.,   0.,   0.,   0.,   0.,   0.,   0.,   0.],\n",
       "       [  0.,   0.,   0.,   0.,   0.,   0.,   0.,   0.,   0.,   0.,   0.],\n",
       "       [  0.,   0.,   0.,   0.,   0.,   0.,   0.,   0.,   0.,   0.,   0.],\n",
       "       [255., 255., 255., 255., 255., 255., 255., 255., 255., 255., 255.],\n",
       "       [255., 255., 255., 255., 255., 255., 255., 255., 255., 255., 255.],\n",
       "       [255., 255., 255., 255., 255., 255., 255., 255., 255., 255., 255.],\n",
       "       [  0.,   0.,   0.,   0.,   0.,   0.,   0.,   0.,   0.,   0.,   0.],\n",
       "       [  0.,   0.,   0.,   0.,   0.,   0.,   0.,   0.,   0.,   0.,   0.],\n",
       "       [  0.,   0.,   0.,   0.,   0.,   0.,   0.,   0.,   0.,   0.,   0.],\n",
       "       [  0.,   0.,   0.,   0.,   0.,   0.,   0.,   0.,   0.,   0.,   0.]])"
      ]
     },
     "execution_count": 2,
     "metadata": {},
     "output_type": "execute_result"
    }
   ],
   "source": [
    "\n",
    "import cv2 as cv\n",
    "import numpy as np\n",
    "\n",
    "img1 = np.zeros((11,11))\n",
    "cv.line(img1, (0,5), (10,5), color=255, thickness=2)\n",
    "img1"
   ]
  },
  {
   "cell_type": "code",
   "execution_count": 3,
   "metadata": {},
   "outputs": [
    {
     "data": {
      "text/plain": [
       "array([[  0,   0,   0,   0,   0,   0,   0,   0,   0,   0,   0],\n",
       "       [  0,   0,   0,   0,   0,   0,   0,   0,   0,   0,   0],\n",
       "       [  0,   0,   0,   0,   0,   0,   0,   0,   0,   0,   0],\n",
       "       [  0,   0,   0,   0,   0,   0,   0,   0,   0,   0,   0],\n",
       "       [255, 255, 255, 255, 255, 255, 255, 255, 255, 255, 255],\n",
       "       [255, 255, 255, 255, 255, 255, 255, 255, 255, 255, 255],\n",
       "       [255, 255, 255, 255, 255, 255, 255, 255, 255, 255, 255],\n",
       "       [  0,   0,   0,   0,   0,   0,   0,   0,   0,   0,   0],\n",
       "       [  0,   0,   0,   0,   0,   0,   0,   0,   0,   0,   0],\n",
       "       [  0,   0,   0,   0,   0,   0,   0,   0,   0,   0,   0],\n",
       "       [  0,   0,   0,   0,   0,   0,   0,   0,   0,   0,   0]],\n",
       "      dtype=uint8)"
      ]
     },
     "execution_count": 3,
     "metadata": {},
     "output_type": "execute_result"
    }
   ],
   "source": [
    "from PIL import Image, ImageDraw\n",
    "\n",
    "img2 = np.zeros((11,11))\n",
    "img2 = Image.fromarray(img2).convert(\"RGB\")\n",
    "img_draw = ImageDraw.Draw(img2)\n",
    "img_draw.line(((0,5), (10,5)), fill=255, width=3)\n",
    "img = np.array(img2)[:,:,0]\n",
    "img"
   ]
  },
  {
   "cell_type": "code",
   "execution_count": 55,
   "metadata": {},
   "outputs": [
    {
     "name": "stdout",
     "output_type": "stream",
     "text": [
      "SamRoad mean: 99.67379715348346, std: 102.16144125281158\n",
      "RNGDet mean: 52.2361188099854, std: 66.21138844370032\n"
     ]
    }
   ],
   "source": [
    "\n",
    "# 看看samRoad和RNGDet的分割结果的统计数据如何\n",
    "\n",
    "samRoad_mask_path = \"/home/godx/research/source_code/sam_road/save/infer__20240427_172057/mask/8_road.png\"\n",
    "RNGDet_mask_paht = \"/home/godx/research/RNGDet_test/RNGDetPlusPlus/cityscale/RNGDet_multi_ins/test/segmentation/8_segment.png\"\n",
    "\n",
    "# np.where()\n",
    "sam_mask = np.array(Image.open(samRoad_mask_path))  # openCV保存的灰度图像，1通道\n",
    "sam_mask = sam_mask[np.nonzero(sam_mask)]\n",
    "\n",
    "RNG_mask = np.array(Image.open(RNGDet_mask_paht))[:,:,0]    # PIL保存的灰度图像（转换为了RGB，3通道）\n",
    "RNG_mask = RNG_mask[RNG_mask.nonzero()]\n",
    "\n",
    "\n",
    "print(f\"SamRoad mean: {np.mean(sam_mask)}, std: {np.std(sam_mask)}\")\n",
    "print(f\"RNGDet mean: {np.mean(RNG_mask)}, std: {np.std(RNG_mask)}\")\n"
   ]
  },
  {
   "cell_type": "code",
   "execution_count": 51,
   "metadata": {},
   "outputs": [
    {
     "name": "stdout",
     "output_type": "stream",
     "text": [
      "(256, 256)\n",
      "(256, 256)\n"
     ]
    }
   ],
   "source": [
    "\n",
    "# 测试单通道的影像是否可以直接保存\n",
    "# yes!\n",
    "\n",
    "single_channel_img = np.ones((256, 256), dtype=np.uint8)*255\n",
    "print(single_channel_img.shape)\n",
    "Image.fromarray(single_channel_img).save(\"./single_cha_img.png\")\n",
    "\n",
    "single_channel_img = np.array(Image.open(\"./single_cha_img.png\"))\n",
    "print(single_channel_img.shape)"
   ]
  },
  {
   "cell_type": "code",
   "execution_count": 41,
   "metadata": {},
   "outputs": [
    {
     "name": "stdout",
     "output_type": "stream",
     "text": [
      "(array([0, 0, 1, 2]), array([0, 1, 1, 0]))\n",
      "[1 2 4 1]\n",
      "[[ True  True False]\n",
      " [False  True False]\n",
      " [ True False False]]\n",
      "[1 2 4 1]\n",
      "(array([0, 0, 1, 2]), array([0, 1, 1, 0]))\n",
      "[1 2 4 1]\n",
      "(array([0, 0, 1, 2]), array([0, 1, 1, 0]))\n",
      "[1 2 4 1]\n"
     ]
    }
   ],
   "source": [
    "\n",
    "# 找到array的非零元素\n",
    "\n",
    "a = np.array([[1, 2, 0],\n",
    "              [0, 4, 0],\n",
    "              [1, 0, 0]])\n",
    "idxs = np.where(a!=0)   # idxs = ([0, 0, 1, 2],[0, 1, 1, 0]) 手动也行^_^\n",
    "\n",
    "# 行列数组索引\n",
    "print(idxs)\n",
    "print(a[idxs])\n",
    "\n",
    "# 对应位置布尔类型索引\n",
    "print(a!=0)\n",
    "print(a[a!=0])\n",
    "\n",
    "# 行列数组索引\n",
    "print(a.nonzero())\n",
    "print(a[a.nonzero()])\n",
    "\n",
    "# 行列数组索引\n",
    "print(np.nonzero(a))\n",
    "print(a[np.nonzero(a)])"
   ]
  }
 ],
 "metadata": {
  "kernelspec": {
   "display_name": "Python 3",
   "language": "python",
   "name": "python3"
  },
  "language_info": {
   "codemirror_mode": {
    "name": "ipython",
    "version": 3
   },
   "file_extension": ".py",
   "mimetype": "text/x-python",
   "name": "python",
   "nbconvert_exporter": "python",
   "pygments_lexer": "ipython3",
   "version": "3.9.19"
  }
 },
 "nbformat": 4,
 "nbformat_minor": 2
}
