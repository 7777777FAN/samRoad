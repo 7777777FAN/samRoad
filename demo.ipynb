{
 "cells": [
  {
   "cell_type": "code",
   "execution_count": 1,
   "metadata": {},
   "outputs": [
    {
     "name": "stdout",
     "output_type": "stream",
     "text": [
      "pred_keypoint_map 统计数据： mean, min, max\n",
      "0.00472353 2.030601e-10 0.78709155\n",
      "GT_keypoint_map 统计数据： mean, min, max\n",
      "1.0 1.0 1.0\n"
     ]
    }
   ],
   "source": [
    "# 可视化GTE\n",
    "import cv2 as cv\n",
    "from skimage import measure\n",
    "from scipy.ndimage import rotate\n",
    "import numpy as np\n",
    "import os.path as osp\n",
    "import os\n",
    "import torch\n",
    "import shutil\n",
    "\n",
    "\n",
    "\n",
    "IMG_SIZE = 2048\n",
    "OFFSET = 1\n",
    "MAX_DEGREE = 6\n",
    "VECTOR_NORM = 25.0\n",
    "\n",
    "NUM_PROCESS = 10\n",
    "NUM_THREAD = 10\n",
    " \n",
    "# 将图编码为19维张量\n",
    "rgb_pattern   = './cityscale/20cities/region_{}_sat.png'\n",
    "GT_GTE_logits_pattern = './cityscale/GTE/region_{}_GTE.npz' # 真实的GTE\n",
    "GTE_logits_pattern = './save/GTE_修正损失计算重训_37epoch/GTE_logits/region_{}_GTE_logits.npz' # 预测的GTE\n",
    "\n",
    "\n",
    "\n",
    "def vis_GT_GTE(GTE, keypoint_thr=0.1, edge_thr=0.1, aug=False, rot_angle=90, rot_index=0, pred=True):\n",
    "    vis_output = np.zeros((IMG_SIZE, IMG_SIZE, 3))    # 不加底图\n",
    "    # vis_output = cv.imread(rgb_pattern.format(7))[:, :, :]\n",
    "    sub_GTE = torch.tensor(GTE[:, :, :], dtype=torch.float32)\n",
    "    \n",
    "    if aug:\n",
    "        sub_GTE = GTE[:, :, :]\n",
    "        rot_mat = np.array([    # 只针对90度的旋转，如果是任意角度还需要改旋转矩阵\n",
    "                        [0, 1],\n",
    "                        [-1, 0]\n",
    "            ], dtype=np.float32)\n",
    "\n",
    "        sub_GTE = rotate(sub_GTE, rot_angle*rot_index, axes=(0, 1), reshape=False)\n",
    "        vis_output = rotate(vis_output, rot_angle*rot_index, axes=(0, 1), reshape=False)\n",
    "        \n",
    "        # 只对所有不为0的进行变换，其余的全是0，没必要再计算了\n",
    "        for r, c in np.column_stack(np.where(sub_GTE[:,:, 0]>0.98)):\n",
    "            delta_coords = []\n",
    "            for j in range(MAX_DEGREE):\n",
    "                delta_coords.append([sub_GTE[r, c, 1+3*j+1], sub_GTE[r, c, 1+3*j+2]])   # dx, dy\n",
    "            delta_coords_to_rot = np.column_stack(delta_coords)\n",
    "            roted_coords = np.linalg.matrix_power(rot_mat, rot_index)@delta_coords_to_rot\n",
    "            \n",
    "            for j in range(MAX_DEGREE):    # stick back\n",
    "                sub_GTE[r, c, 1+3*j+1], sub_GTE[r, c, 1+3*j+2] = roted_coords[:, j]\n",
    "                \n",
    "    keypoint_map = sub_GTE[:,:, 0].detach().cpu().numpy()\n",
    "\n",
    "    # 从团中寻找中心点\n",
    "    keypoint_map = (keypoint_map > keypoint_thr).astype(np.uint8)\n",
    "    # cv.imwrite(osp.join(verify_dir, f'region_8_vis_{rot_angle*rot_index}.png'), vis_output)\n",
    "    # cv.imwrite(osp.join(verify_dir, f'region_8_vis_{rot_angle*rot_index}.png'), keypoint_map*255)\n",
    "    labels = measure.label(keypoint_map, connectivity=2)\n",
    "    props = measure.regionprops(labels)\n",
    "    min_area = 0\n",
    "    for region in props:\n",
    "        if region.area > min_area:\n",
    "            center = region.centroid[::-1]   # rc-> xy\n",
    "            center_x, center_y = int(center[0]), int(center[1])\n",
    "            cv.circle(vis_output, (center_x, center_y), radius=2, color=(0, 0, 255), thickness=-1)\n",
    "            \n",
    "            r, c = center_y, center_x\n",
    "            for j in range(MAX_DEGREE):\n",
    "                edgeness = torch.sigmoid(sub_GTE[r, c, 1+3*j])\n",
    "                if edgeness > edge_thr:\n",
    "                    dx, dy = sub_GTE[r, c, 1+3*j+1], sub_GTE[r, c, 1+3*j+2]\n",
    "                    # dx, dy = rot_mat@np.array([dx, dy])\n",
    "                    dst_x, dst_y = int(center_x + VECTOR_NORM*dx), int(center_y + VECTOR_NORM*dy)\n",
    "                    cv.line(vis_output, (center_x, center_y), (dst_x, dst_y), color=(0, 255, 0), thickness=1)\n",
    "    suffix = 'pred' if pred else 'GT'\n",
    "    cv.imwrite(osp.join(verify_dir, f'region_8_vis_{rot_angle*rot_index}_{suffix}.png'), vis_output)\n",
    "    \n",
    "\n",
    "\n",
    "pred_GTE = np.load(open(GTE_logits_pattern.format(179), 'rb'))['GTE_logits']\n",
    "GT_GTE = np.load(open(GT_GTE_logits_pattern.format(179), 'rb'))['GTE']\n",
    "\n",
    "pred_keypoint_map = pred_GTE[:,:,0]\n",
    "GT_keypoint_map = GT_GTE[:,:,0]\n",
    "\n",
    "pred_idx = np.where(pred_keypoint_map)\n",
    "GT_idx = np.where(GT_keypoint_map)\n",
    "\n",
    "print('pred_keypoint_map 统计数据： mean, min, max')\n",
    "print(pred_keypoint_map[pred_idx].mean(), pred_keypoint_map[pred_idx].min(), pred_keypoint_map[pred_idx].max())\n",
    "\n",
    "print('GT_keypoint_map 统计数据： mean, min, max')\n",
    "print(GT_keypoint_map[GT_idx].mean(), GT_keypoint_map[GT_idx].min(), GT_keypoint_map[GT_idx].max())\n",
    "\n",
    "\n",
    "verify_dir = './save/成功的GTE/verify'\n",
    "# if osp.exists(verify_dir):\n",
    "#     shutil.rmtree(verify_dir)\n",
    "# os.makedirs(verify_dir)\n",
    "# vis_GT_GTE(pred_GTE, aug=False, pred=True)\n",
    "# vis_GT_GTE(GT_GTE, aug=False, pred=False)"
   ]
  },
  {
   "cell_type": "code",
   "execution_count": 2,
   "metadata": {},
   "outputs": [
    {
     "name": "stdout",
     "output_type": "stream",
     "text": [
      "内插了256个点\n"
     ]
    },
    {
     "name": "stderr",
     "output_type": "stream",
     "text": [
      "/home/godx/research/source_code/sam_road/douglasPeucker.py:18: RuntimeWarning: invalid value encountered in divide\n",
      "  return area/l\n"
     ]
    }
   ],
   "source": [
    "# 用Sat2Graph的解码算法解码一下\n",
    "from decoder import DecodeAndVis\n",
    "\n",
    "output_dir = './save/成功的GTE/decode_result'\n",
    "pred_decode_file = osp.join(output_dir, f'region_{179}')\n",
    "GT_decode_file = osp.join(output_dir, f'GT_region_{179}')\n",
    "\n",
    "pred_graph = DecodeAndVis(pred_GTE, pred_decode_file, thr=0.05, edge_thr=0.05, angledistance_weight=10, snap=True, imagesize=2048)\n",
    "# Gt_graph = DecodeAndVis(GT_GTE, GT_decode_file, thr=0.05, edge_thr=0.1, angledistance_weight=50, snap=True, imagesize=2048)"
   ]
  },
  {
   "cell_type": "code",
   "execution_count": null,
   "metadata": {},
   "outputs": [],
   "source": [
    "\n",
    "import json\n",
    "import pickle\n",
    "import cv2 as cv\n",
    "from PIL import Image\n",
    "import os, shutil\n",
    "import numpy as np\n",
    "\n",
    "\n",
    "\n",
    "pred_graph_pattern = './save/修正损失计算重训/decode_result_origin/region_{}_graph.p'\n",
    "\n",
    "save_dir = './save/修正损失计算重训/skel_from_graph'\n",
    "if os.path.exists(save_dir):\n",
    "    shutil.rmtree(save_dir)\n",
    "os.makedirs(save_dir)\n",
    "save_pattern = os.path.join(save_dir, '{}.png')\n",
    "\n",
    "test_idxs = json.load(open('./cityscale/data_split.json', 'rb'))['test']\n",
    "\n",
    "\n",
    "for idx in test_idxs:\n",
    "    pred_graph_path = pred_graph_pattern.format(idx)\n",
    "    \n",
    "    sat = np.zeros((2048, 2048), dtype=np.uint8)\n",
    "    pred_graph = pickle.load(open(pred_graph_path, 'rb'))\n",
    "    \n",
    "    for n, v in pred_graph.items():\n",
    "        src_y, src_x = n\n",
    "        for nei in v:\n",
    "            dst_y, dst_x = nei\n",
    "            cv.line(sat, (src_x, src_y), (dst_x, dst_y), color=255, thickness=1)\n",
    "    \n",
    "    save_path = save_pattern.format(idx)\n",
    "    cv.imwrite(save_path, sat)"
   ]
  },
  {
   "cell_type": "code",
   "execution_count": null,
   "metadata": {},
   "outputs": [],
   "source": [
    "def intersection(p1_satrt, p1_end, p2_start, p2_end):\n",
    "        \n",
    "        v1 = np.array(p1_end) - np.array(p1_satrt)\n",
    "        v2 = np.array(p2_end) - np.array(p2_start)\n",
    "\n",
    "        v_rel = np.array(p2_start) - np.array(p1_satrt)\n",
    "\n",
    "        den = v1[1] * v2[0] - v1[0] * v2[1]\n",
    "        u1 = v1[0] * v_rel[1] - v1[1] * v_rel[0]\n",
    "        u2 = v2[0] * v_rel[1]  - v2[1] * v_rel[0]\n",
    "\n",
    "        if den == 0:\n",
    "            # collinear\n",
    "            if u1 == 0 and u2 == 0:\n",
    "                return True\n",
    "            else:\n",
    "                return False\n",
    "\n",
    "        if float(u1) / den < 0 or float(u1) / den > 1 or float(u2) / den < 0 or float(u2) / den > 1:\n",
    "            return False\n",
    "        \n",
    "        return True"
   ]
  },
  {
   "cell_type": "code",
   "execution_count": 8,
   "metadata": {},
   "outputs": [
    {
     "name": "stdout",
     "output_type": "stream",
     "text": [
      "(array([0, 1, 1]), array([1, 0, 1]))\n",
      "[2 3 4]\n"
     ]
    }
   ],
   "source": [
    "import numpy as np\n",
    "\n",
    "a = np.array(\n",
    "    [[1, 2],\n",
    "     [3, 4]])\n",
    "\n",
    "idx = np.where(a>1)\n",
    "print(idx)\n",
    "print(a[a>1])"
   ]
  }
 ],
 "metadata": {
  "kernelspec": {
   "display_name": "Python 3",
   "language": "python",
   "name": "python3"
  },
  "language_info": {
   "codemirror_mode": {
    "name": "ipython",
    "version": 3
   },
   "file_extension": ".py",
   "mimetype": "text/x-python",
   "name": "python",
   "nbconvert_exporter": "python",
   "pygments_lexer": "ipython3",
   "version": "3.9.19"
  }
 },
 "nbformat": 4,
 "nbformat_minor": 2
}
