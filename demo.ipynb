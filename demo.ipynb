{
 "cells": [
  {
   "cell_type": "code",
   "execution_count": 1,
   "metadata": {},
   "outputs": [
    {
     "data": {
      "text/plain": [
       "array([[  0.,   0.,   0.,   0.,   0.,   0.,   0.,   0.,   0.,   0.,   0.],\n",
       "       [  0.,   0.,   0.,   0.,   0.,   0.,   0.,   0.,   0.,   0.,   0.],\n",
       "       [  0.,   0.,   0.,   0.,   0.,   0.,   0.,   0.,   0.,   0.,   0.],\n",
       "       [  0.,   0.,   0.,   0.,   0.,   0.,   0.,   0.,   0.,   0.,   0.],\n",
       "       [255., 255., 255., 255., 255., 255., 255., 255., 255., 255., 255.],\n",
       "       [255., 255., 255., 255., 255., 255., 255., 255., 255., 255., 255.],\n",
       "       [255., 255., 255., 255., 255., 255., 255., 255., 255., 255., 255.],\n",
       "       [  0.,   0.,   0.,   0.,   0.,   0.,   0.,   0.,   0.,   0.,   0.],\n",
       "       [  0.,   0.,   0.,   0.,   0.,   0.,   0.,   0.,   0.,   0.,   0.],\n",
       "       [  0.,   0.,   0.,   0.,   0.,   0.,   0.,   0.,   0.,   0.,   0.],\n",
       "       [  0.,   0.,   0.,   0.,   0.,   0.,   0.,   0.,   0.,   0.,   0.]])"
      ]
     },
     "execution_count": 1,
     "metadata": {},
     "output_type": "execute_result"
    }
   ],
   "source": [
    "\n",
    "import cv2 as cv\n",
    "import numpy as np\n",
    "\n",
    "img1 = np.zeros((11,11))\n",
    "cv.line(img1, (0,5), (10,5), color=255, thickness=2)\n",
    "img1"
   ]
  },
  {
   "cell_type": "code",
   "execution_count": 2,
   "metadata": {},
   "outputs": [
    {
     "data": {
      "text/plain": [
       "array([[  0,   0,   0,   0,   0,   0,   0,   0,   0,   0,   0],\n",
       "       [  0,   0,   0,   0,   0,   0,   0,   0,   0,   0,   0],\n",
       "       [  0,   0,   0,   0,   0,   0,   0,   0,   0,   0,   0],\n",
       "       [  0,   0,   0,   0,   0,   0,   0,   0,   0,   0,   0],\n",
       "       [255, 255, 255, 255, 255, 255, 255, 255, 255, 255, 255],\n",
       "       [255, 255, 255, 255, 255, 255, 255, 255, 255, 255, 255],\n",
       "       [255, 255, 255, 255, 255, 255, 255, 255, 255, 255, 255],\n",
       "       [  0,   0,   0,   0,   0,   0,   0,   0,   0,   0,   0],\n",
       "       [  0,   0,   0,   0,   0,   0,   0,   0,   0,   0,   0],\n",
       "       [  0,   0,   0,   0,   0,   0,   0,   0,   0,   0,   0],\n",
       "       [  0,   0,   0,   0,   0,   0,   0,   0,   0,   0,   0]],\n",
       "      dtype=uint8)"
      ]
     },
     "execution_count": 2,
     "metadata": {},
     "output_type": "execute_result"
    }
   ],
   "source": [
    "from PIL import Image, ImageDraw\n",
    "\n",
    "img2 = np.zeros((11,11))\n",
    "img2 = Image.fromarray(img2).convert(\"RGB\")\n",
    "img_draw = ImageDraw.Draw(img2)\n",
    "img_draw.line(((0,5), (10,5)), fill=255, width=3)\n",
    "img = np.array(img2)[:,:,0]\n",
    "img"
   ]
  },
  {
   "cell_type": "code",
   "execution_count": 3,
   "metadata": {},
   "outputs": [
    {
     "ename": "FileNotFoundError",
     "evalue": "[Errno 2] No such file or directory: '/home/godx/research/RNGDet_test/RNGDetPlusPlus/cityscale/RNGDet_multi_ins/test/segmentation/8_segment.png'",
     "output_type": "error",
     "traceback": [
      "\u001b[0;31m---------------------------------------------------------------------------\u001b[0m",
      "\u001b[0;31mFileNotFoundError\u001b[0m                         Traceback (most recent call last)",
      "Cell \u001b[0;32mIn[3], line 10\u001b[0m\n\u001b[1;32m      7\u001b[0m sam_mask \u001b[38;5;241m=\u001b[39m np\u001b[38;5;241m.\u001b[39marray(Image\u001b[38;5;241m.\u001b[39mopen(samRoad_mask_path))  \u001b[38;5;66;03m# openCV保存的灰度图像，1通道\u001b[39;00m\n\u001b[1;32m      8\u001b[0m sam_mask \u001b[38;5;241m=\u001b[39m sam_mask[np\u001b[38;5;241m.\u001b[39mnonzero(sam_mask)]\n\u001b[0;32m---> 10\u001b[0m RNG_mask \u001b[38;5;241m=\u001b[39m np\u001b[38;5;241m.\u001b[39marray(\u001b[43mImage\u001b[49m\u001b[38;5;241;43m.\u001b[39;49m\u001b[43mopen\u001b[49m\u001b[43m(\u001b[49m\u001b[43mRNGDet_mask_paht\u001b[49m\u001b[43m)\u001b[49m)[:,:,\u001b[38;5;241m0\u001b[39m]    \u001b[38;5;66;03m# PIL保存的灰度图像（转换为了RGB，3通道）\u001b[39;00m\n\u001b[1;32m     11\u001b[0m RNG_mask \u001b[38;5;241m=\u001b[39m RNG_mask[RNG_mask\u001b[38;5;241m.\u001b[39mnonzero()]\n\u001b[1;32m     14\u001b[0m \u001b[38;5;28mprint\u001b[39m(\u001b[38;5;124mf\u001b[39m\u001b[38;5;124m\"\u001b[39m\u001b[38;5;124mSamRoad mean: \u001b[39m\u001b[38;5;132;01m{\u001b[39;00mnp\u001b[38;5;241m.\u001b[39mmean(sam_mask)\u001b[38;5;132;01m}\u001b[39;00m\u001b[38;5;124m, std: \u001b[39m\u001b[38;5;132;01m{\u001b[39;00mnp\u001b[38;5;241m.\u001b[39mstd(sam_mask)\u001b[38;5;132;01m}\u001b[39;00m\u001b[38;5;124m\"\u001b[39m)\n",
      "File \u001b[0;32m~/.conda/envs/samRoad/lib/python3.9/site-packages/PIL/Image.py:3227\u001b[0m, in \u001b[0;36mopen\u001b[0;34m(fp, mode, formats)\u001b[0m\n\u001b[1;32m   3224\u001b[0m     filename \u001b[38;5;241m=\u001b[39m fp\n\u001b[1;32m   3226\u001b[0m \u001b[38;5;28;01mif\u001b[39;00m filename:\n\u001b[0;32m-> 3227\u001b[0m     fp \u001b[38;5;241m=\u001b[39m \u001b[43mbuiltins\u001b[49m\u001b[38;5;241;43m.\u001b[39;49m\u001b[43mopen\u001b[49m\u001b[43m(\u001b[49m\u001b[43mfilename\u001b[49m\u001b[43m,\u001b[49m\u001b[43m \u001b[49m\u001b[38;5;124;43m\"\u001b[39;49m\u001b[38;5;124;43mrb\u001b[39;49m\u001b[38;5;124;43m\"\u001b[39;49m\u001b[43m)\u001b[49m\n\u001b[1;32m   3228\u001b[0m     exclusive_fp \u001b[38;5;241m=\u001b[39m \u001b[38;5;28;01mTrue\u001b[39;00m\n\u001b[1;32m   3230\u001b[0m \u001b[38;5;28;01mtry\u001b[39;00m:\n",
      "\u001b[0;31mFileNotFoundError\u001b[0m: [Errno 2] No such file or directory: '/home/godx/research/RNGDet_test/RNGDetPlusPlus/cityscale/RNGDet_multi_ins/test/segmentation/8_segment.png'"
     ]
    }
   ],
   "source": [
    "\n",
    "# 看看samRoad和RNGDet的分割结果的统计数据如何\n",
    "\n",
    "samRoad_mask_path = \"/home/godx/research/source_code/sam_road/save/infer__20240427_172057/mask/8_road.png\"\n",
    "RNGDet_mask_paht = \"/home/godx/research/RNGDet_test/RNGDetPlusPlus/cityscale/RNGDet_multi_ins/test/segmentation/8_segment.png\"\n",
    "\n",
    "# np.where()\n",
    "sam_mask = np.array(Image.open(samRoad_mask_path))  # openCV保存的灰度图像，1通道\n",
    "sam_mask = sam_mask[np.nonzero(sam_mask)]\n",
    "\n",
    "RNG_mask = np.array(Image.open(RNGDet_mask_paht))[:,:,0]    # PIL保存的灰度图像（转换为了RGB，3通道）\n",
    "RNG_mask = RNG_mask[RNG_mask.nonzero()]\n",
    "\n",
    "\n",
    "print(f\"SamRoad mean: {np.mean(sam_mask)}, std: {np.std(sam_mask)}\")\n",
    "print(f\"RNGDet mean: {np.mean(RNG_mask)}, std: {np.std(RNG_mask)}\")\n"
   ]
  },
  {
   "cell_type": "code",
   "execution_count": null,
   "metadata": {},
   "outputs": [
    {
     "name": "stdout",
     "output_type": "stream",
     "text": [
      "(256, 256)\n",
      "(256, 256)\n"
     ]
    }
   ],
   "source": [
    "\n",
    "# 测试单通道的影像是否可以直接保存\n",
    "# yes!\n",
    "\n",
    "single_channel_img = np.ones((256, 256), dtype=np.uint8)*255\n",
    "print(single_channel_img.shape)\n",
    "Image.fromarray(single_channel_img).save(\"./single_cha_img.png\")\n",
    "\n",
    "single_channel_img = np.array(Image.open(\"./single_cha_img.png\"))\n",
    "print(single_channel_img.shape)"
   ]
  },
  {
   "cell_type": "code",
   "execution_count": 45,
   "metadata": {},
   "outputs": [
    {
     "name": "stdout",
     "output_type": "stream",
     "text": [
      "(array([0, 0, 1, 2]), array([0, 1, 1, 0]))\n",
      "[1 2 4 1]\n",
      "[[ True  True False]\n",
      " [False  True False]\n",
      " [ True False False]]\n",
      "[1 2 4 1]\n",
      "(array([0, 0, 1, 2]), array([0, 1, 1, 0]))\n",
      "[1 2 4 1]\n",
      "(array([0, 0, 1, 2]), array([0, 1, 1, 0]))\n",
      "[1 2 4 1]\n",
      "[[ True  True False]\n",
      " [False  True False]\n",
      " [ True False False]]\n",
      "[1 2 4 1]\n",
      "(array([0, 0, 1, 2]), array([0, 1, 1, 0]))\n",
      "[1 2 4 1]\n",
      "(array([0, 0, 1, 2]), array([0, 1, 1, 0]))\n",
      "[1 2 4 1]\n"
     ]
    }
   ],
   "source": [
    "\n",
    "# 找到array的非零元素\n",
    "\n",
    "a = np.array([[1, 2, 0],\n",
    "              [0, 4, 0],\n",
    "              [1, 0, 0]])\n",
    "idxs = np.where(a!=0)   # idxs = ([0, 0, 1, 2],[0, 1, 1, 0]) 手动也行^_^\n",
    "\n",
    "# 行列数组索引\n",
    "print(idxs)\n",
    "print(a[idxs])\n",
    "\n",
    "# 对应位置布尔类型索引\n",
    "print(a!=0)\n",
    "print(a[a!=0])\n",
    "\n",
    "# 行列数组索引\n",
    "print(a.nonzero())\n",
    "print(a[a.nonzero()])\n",
    "\n",
    "# 行列数组索引\n",
    "print(np.nonzero(a))\n",
    "print(a[np.nonzero(a)])\n",
    "\n",
    "# 对应位置布尔类型索引\n",
    "print(a!=0)\n",
    "print(a[a!=0])\n",
    "\n",
    "# 行列数组索引\n",
    "print(a.nonzero())\n",
    "print(a[a.nonzero()])\n",
    "\n",
    "# 行列数组索引\n",
    "print(np.nonzero(a))\n",
    "print(a[np.nonzero(a)])"
   ]
  },
  {
   "cell_type": "code",
   "execution_count": 43,
   "metadata": {},
   "outputs": [
    {
     "name": "stdout",
     "output_type": "stream",
     "text": [
      "np.where(a)的初始返回结果： (array([0, 0, 1, 2]), array([0, 1, 1, 0]))\n",
      "[[0, 0], [0, 1], [1, 1], [2, 0]]\n",
      "[[0, 0], [0, 1], [1, 1], [2, 0]]\n",
      "[[0 0]\n",
      " [0 1]\n",
      " [1 1]\n",
      " [2 0]]\n",
      "[[0 0]\n",
      " [1 0]\n",
      " [1 1]\n",
      " [0 2]]\n"
     ]
    }
   ],
   "source": [
    "\n",
    "# 把np.where()返回的行列号分开的结果合并\n",
    "a = np.array([[1, 2, 0],\n",
    "              [0, 4, 0],\n",
    "              [1, 0, 0]])\n",
    "print(\"np.where(a)的初始返回结果：\", np.where(a))\n",
    "\n",
    "# ① 采用xzh的方案\n",
    "def tuple2list(t):\n",
    "    return [[t[0][idx], t[1][idx]] for idx in range(len(t[0]))]\n",
    "rc = tuple2list(np.where(a))\n",
    "print(rc)\n",
    "\n",
    "# ② 使用zip\n",
    "rc = []\n",
    "for r, c in zip(*np.where(a)):  # 等价于for r, c in zip(np.where(a)[0], np.where(a)[1])\n",
    "    rc.append([r, c])\n",
    "print(rc)\n",
    "\n",
    "# ③ 使用np的堆叠函数把两个分开的数组堆叠起来成为一个矩阵方便索引\n",
    "rc = np.column_stack(np.where(a))\n",
    "xy = rc[:, ::-1]\n",
    "print(rc)\n",
    "print(xy)"
   ]
  },
  {
   "cell_type": "code",
   "execution_count": 62,
   "metadata": {},
   "outputs": [
    {
     "name": "stdout",
     "output_type": "stream",
     "text": [
      "[[1 2 0]\n",
      " [0 0 1]\n",
      " [2 1 2]]\n",
      "\n",
      "[[0 0 0]\n",
      " [7 8 0]\n",
      " [7 9 0]]\n",
      "\n",
      "[[0 0 0]\n",
      " [7 8 0]\n",
      " [7 9 0]]\n"
     ]
    }
   ],
   "source": [
    "a = np.array([[7, 8, 0],\n",
    "              [0, 9, 0],\n",
    "              [7, 0, 0]])\n",
    "\n",
    "\n",
    "print(np.argsort(a, axis=0))\n",
    "print()\n",
    "\n",
    "print(np.sort(a, axis=0))\n",
    "print()\n",
    "\n",
    "print(np.take_along_axis(a, np.argsort(a, axis=0), 0))"
   ]
  }
 ],
 "metadata": {
  "kernelspec": {
   "display_name": "Python 3",
   "language": "python",
   "name": "python3"
  },
  "language_info": {
   "codemirror_mode": {
    "name": "ipython",
    "version": 3
   },
   "file_extension": ".py",
   "mimetype": "text/x-python",
   "name": "python",
   "nbconvert_exporter": "python",
   "pygments_lexer": "ipython3",
   "version": "3.9.19"
  }
 },
 "nbformat": 4,
 "nbformat_minor": 2
}
