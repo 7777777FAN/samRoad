{
 "cells": [
  {
   "cell_type": "code",
   "execution_count": 1,
   "metadata": {},
   "outputs": [
    {
     "name": "stdout",
     "output_type": "stream",
     "text": [
      "(array([0, 0, 1, 2]), array([0, 1, 1, 0]))\n",
      "[1 2 4 1]\n",
      "[[ True  True False]\n",
      " [False  True False]\n",
      " [ True False False]]\n",
      "[1 2 4 1]\n",
      "(array([0, 0, 1, 2]), array([0, 1, 1, 0]))\n",
      "[1 2 4 1]\n",
      "(array([0, 0, 1, 2]), array([0, 1, 1, 0]))\n",
      "[1 2 4 1]\n",
      "[[ True  True False]\n",
      " [False  True False]\n",
      " [ True False False]]\n",
      "[1 2 4 1]\n",
      "(array([0, 0, 1, 2]), array([0, 1, 1, 0]))\n",
      "[1 2 4 1]\n",
      "(array([0, 0, 1, 2]), array([0, 1, 1, 0]))\n",
      "[1 2 4 1]\n"
     ]
    }
   ],
   "source": [
    "# 找到array的非零元素\n",
    "import numpy as np\n",
    "\n",
    "a = np.array([[1, 2, 0],\n",
    "              [0, 4, 0],\n",
    "              [1, 0, 0]])\n",
    "idxs = np.where(a!=0)   # idxs = ([0, 0, 1, 2],[0, 1, 1, 0]) 手动也行^_^\n",
    "\n",
    "# 行列数组索引\n",
    "print(idxs)\n",
    "print(a[idxs])\n",
    "\n",
    "# 对应位置布尔类型索引\n",
    "print(a!=0)\n",
    "print(a[a!=0])\n",
    "\n",
    "# 行列数组索引\n",
    "print(a.nonzero())\n",
    "print(a[a.nonzero()])\n",
    "\n",
    "# 行列数组索引\n",
    "print(np.nonzero(a))\n",
    "print(a[np.nonzero(a)])\n",
    "\n",
    "# 对应位置布尔类型索引\n",
    "print(a!=0)\n",
    "print(a[a!=0])\n",
    "\n",
    "# 行列数组索引\n",
    "print(a.nonzero())\n",
    "print(a[a.nonzero()])\n",
    "\n",
    "# 行列数组索引\n",
    "print(np.nonzero(a))\n",
    "print(a[np.nonzero(a)])"
   ]
  },
  {
   "cell_type": "code",
   "execution_count": null,
   "metadata": {},
   "outputs": [],
   "source": []
  },
  {
   "cell_type": "code",
   "execution_count": 43,
   "metadata": {},
   "outputs": [
    {
     "name": "stdout",
     "output_type": "stream",
     "text": [
      "np.where(a)的初始返回结果： (array([0, 0, 1, 2]), array([0, 1, 1, 0]))\n",
      "[[0, 0], [0, 1], [1, 1], [2, 0]]\n",
      "[[0, 0], [0, 1], [1, 1], [2, 0]]\n",
      "[[0 0]\n",
      " [0 1]\n",
      " [1 1]\n",
      " [2 0]]\n",
      "[[0 0]\n",
      " [1 0]\n",
      " [1 1]\n",
      " [0 2]]\n"
     ]
    }
   ],
   "source": [
    "# 把np.where()返回的行列号分开的结果合并\n",
    "\n",
    "a = np.array([[1, 2, 0],\n",
    "              [0, 4, 0],\n",
    "              [1, 0, 0]])\n",
    "print(\"np.where(a)的初始返回结果：\", np.where(a))\n",
    "\n",
    "# ① 采用xzh的方案\n",
    "def tuple2list(t):\n",
    "    return [[t[0][idx], t[1][idx]] for idx in range(len(t[0]))]\n",
    "rc = tuple2list(np.where(a))\n",
    "print(rc)\n",
    "\n",
    "# ② 使用zip\n",
    "rc = []\n",
    "for r, c in zip(*np.where(a)):  # 等价于for r, c in zip(np.where(a)[0], np.where(a)[1])\n",
    "    rc.append([r, c])\n",
    "print(rc)\n",
    "\n",
    "# ③ 使用np的堆叠函数把两个分开的数组堆叠起来成为一个矩阵方便索引\n",
    "rc = np.column_stack(np.where(a))\n",
    "xy = rc[:, ::-1]\n",
    "print(rc)\n",
    "print(xy)"
   ]
  },
  {
   "cell_type": "code",
   "execution_count": 97,
   "metadata": {},
   "outputs": [
    {
     "name": "stdout",
     "output_type": "stream",
     "text": [
      "[[1 2 0]\n",
      " [0 0 1]\n",
      " [2 1 2]]\n",
      "\n",
      "[[0 0 0]\n",
      " [7 8 0]\n",
      " [7 9 0]]\n",
      "\n",
      "[[0 0 0]\n",
      " [7 8 0]\n",
      " [7 9 0]]\n",
      "\n"
     ]
    }
   ],
   "source": [
    "# 数组元素的排序与挑选\n",
    "a = np.array([[7, 8, 0],\n",
    "              [0, 9, 0],\n",
    "              [7, 0, 0]])\n",
    "print(np.argsort(a, axis=0))    # 数组元素沿指定轴排序，返回值在指定轴上的索引矩阵\n",
    "print()\n",
    "\n",
    "# print(np.sort(a, axis=0))    # 数组元素沿指定轴排序，返回具体值矩阵\n",
    "# print()\n",
    "\n",
    "print(np.take_along_axis(a, np.argsort(a, axis=0), axis=0))  # 根据返回的值的索引沿指定轴挑选元素（重排）\n",
    "print()\n",
    "b = np.zeros_like(a)\n",
    "for j in range(a.shape[1]):\n",
    "    b[:, j] = a[:, j][np.argsort(a, axis=0)[:,j]]\n",
    "print(b)\n",
    "print()\n",
    "\n",
    "\n",
    "# # 只有一个轴式可以不使用take_along_axis函数\n",
    "# a = np.array([7, 8, 0])\n",
    "# print(np.argsort(a, axis=0))    # 数组元素沿指定轴排序，返回值在指定轴上的索引矩阵\n",
    "# print()\n",
    "# print(np.take_along_axis(a,np.argsort(a, axis=0), axis=0))\n",
    "# print()"
   ]
  },
  {
   "cell_type": "code",
   "execution_count": 63,
   "metadata": {},
   "outputs": [
    {
     "data": {
      "text/plain": [
       "[[2, 1], [4, 3]]"
      ]
     },
     "execution_count": 63,
     "metadata": {},
     "output_type": "execute_result"
    }
   ],
   "source": [
    "transform = lambda x: [i[::-1] for i in x]\n",
    "a = [[1, 2], [3, 4]]\n",
    "b = transform(a)\n",
    "b"
   ]
  },
  {
   "cell_type": "code",
   "execution_count": 65,
   "metadata": {},
   "outputs": [
    {
     "data": {
      "text/plain": [
       "array([0.  , 0.25, 0.5 , 0.75, 1.  ])"
      ]
     },
     "execution_count": 65,
     "metadata": {},
     "output_type": "execute_result"
    }
   ],
   "source": [
    "a = np.linspace(0, 1, num=4+1, endpoint=True)\n",
    "a"
   ]
  },
  {
   "cell_type": "code",
   "execution_count": 74,
   "metadata": {},
   "outputs": [
    {
     "name": "stdout",
     "output_type": "stream",
     "text": [
      "[0 1 4]\n",
      "[0 1 2 3 4 5]\n",
      "[0 1 1 1 1 1]\n",
      "[1 2 3 4 5]\n"
     ]
    }
   ],
   "source": [
    "points = np.array([0, 1, 2, 3, 4, 5])\n",
    "print(points[[0, 1, 4]])\n",
    "print(points[[0, 1, 2, 3, 4, 5]])\n",
    "print(points[[0, 1, 1, 1, 1, 1]])\n",
    "print(points[np.bool_([0, 1, 1, 1, 1, 1])])"
   ]
  }
 ],
 "metadata": {
  "kernelspec": {
   "display_name": "Python 3",
   "language": "python",
   "name": "python3"
  },
  "language_info": {
   "codemirror_mode": {
    "name": "ipython",
    "version": 3
   },
   "file_extension": ".py",
   "mimetype": "text/x-python",
   "name": "python",
   "nbconvert_exporter": "python",
   "pygments_lexer": "ipython3",
   "version": "3.9.19"
  }
 },
 "nbformat": 4,
 "nbformat_minor": 2
}
